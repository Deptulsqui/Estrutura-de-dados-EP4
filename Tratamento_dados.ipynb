{
 "cells": [
  {
   "cell_type": "markdown",
   "metadata": {},
   "source": [
    "## Tratamento dos Dados para o EP4 Relação de matrículas no enem x Pessoas que realmente fazem a prova 2009, 2010, 2011, 2012, 2013, 2016, 2017, 2018"
   ]
  },
  {
   "cell_type": "code",
   "execution_count": 1,
   "metadata": {},
   "outputs": [],
   "source": [
    "import pandas as pd\n",
    "low_memory = False"
   ]
  },
  {
   "cell_type": "markdown",
   "metadata": {},
   "source": [
    "### Lendo arquivos dos anos 2009, 2010, 2011, 2012, 2013, 2016, 2017, 2018"
   ]
  },
  {
   "cell_type": "code",
   "execution_count": 2,
   "metadata": {},
   "outputs": [],
   "source": [
    "df2009 = pd.read_csv('MICRODADOS_ENEM_2009.csv', sep = ';', encoding='iso-8859-1',usecols = ['NU_INSCRICAO','TP_PRESENCA_CN','TP_PRESENCA_CH','TP_PRESENCA_LC','TP_PRESENCA_MT'])"
   ]
  },
  {
   "cell_type": "code",
   "execution_count": 3,
   "metadata": {},
   "outputs": [],
   "source": [
    "df2010 = pd.read_csv('MICRODADOS_ENEM_2010.csv', sep = ';', encoding='iso-8859-1',usecols = ['NU_INSCRICAO','TP_PRESENCA_CN','TP_PRESENCA_CH','TP_PRESENCA_LC','TP_PRESENCA_MT'])"
   ]
  },
  {
   "cell_type": "code",
   "execution_count": 4,
   "metadata": {},
   "outputs": [
    {
     "name": "stderr",
     "output_type": "stream",
     "text": [
      "c:\\users\\feh\\appdata\\local\\programs\\python\\python37\\lib\\site-packages\\IPython\\core\\interactiveshell.py:3051: DtypeWarning: Columns (1) have mixed types. Specify dtype option on import or set low_memory=False.\n",
      "  interactivity=interactivity, compiler=compiler, result=result)\n"
     ]
    }
   ],
   "source": [
    "df2011 = pd.read_csv('MICRODADOS_ENEM_2011.csv', sep = ';', encoding='iso-8859-1',usecols = ['NU_INSCRICAO','TP_PRESENCA_CN','TP_PRESENCA_CH','TP_PRESENCA_LC','TP_PRESENCA_MT'])"
   ]
  },
  {
   "cell_type": "code",
   "execution_count": 5,
   "metadata": {},
   "outputs": [],
   "source": [
    "df2012 = pd.read_csv('MICRODADOS_ENEM_2012.csv', sep = ';', encoding='iso-8859-1',usecols = ['NU_INSCRICAO','IN_PRESENCA_CN','IN_PRESENCA_CH','IN_PRESENCA_LC','IN_PRESENCA_MT'])"
   ]
  },
  {
   "cell_type": "code",
   "execution_count": 6,
   "metadata": {},
   "outputs": [],
   "source": [
    "df2013 = pd.read_csv('MICRODADOS_ENEM_2013.csv', sep = ';', encoding='iso-8859-1',usecols = ['NU_INSCRICAO','IN_PRESENCA_CN','IN_PRESENCA_CH','IN_PRESENCA_LC','IN_PRESENCA_MT'])"
   ]
  },
  {
   "cell_type": "code",
   "execution_count": 7,
   "metadata": {},
   "outputs": [],
   "source": [
    "df2016 = pd.read_csv('MICRODADOS_ENEM_2016.csv', sep = ';', encoding='iso-8859-1',usecols = ['NU_INSCRICAO','TP_PRESENCA_CN','TP_PRESENCA_CH','TP_PRESENCA_LC','TP_PRESENCA_MT'])"
   ]
  },
  {
   "cell_type": "code",
   "execution_count": 8,
   "metadata": {},
   "outputs": [],
   "source": [
    "df2017 = pd.read_csv('MICRODADOS_ENEM_2017.csv', sep = ';', encoding='iso-8859-1',usecols = ['NU_INSCRICAO','TP_PRESENCA_CN','TP_PRESENCA_CH','TP_PRESENCA_LC','TP_PRESENCA_MT'])"
   ]
  },
  {
   "cell_type": "code",
   "execution_count": 20,
   "metadata": {},
   "outputs": [],
   "source": [
    "df2018 = pd.read_csv('MICRODADOS_ENEM_2018.csv', sep = ';', encoding='iso-8859-1',usecols = ['NU_INSCRICAO','TP_PRESENCA_CN','TP_PRESENCA_CH','TP_PRESENCA_LC','TP_PRESENCA_MT'])"
   ]
  },
  {
   "cell_type": "markdown",
   "metadata": {},
   "source": [
    "## Concatenando os dados dos anos"
   ]
  },
  {
   "cell_type": "code",
   "execution_count": 11,
   "metadata": {},
   "outputs": [],
   "source": [
    "dftudo = pd.concat([df2009, df2010,df2011, df2012, df2013, df2016, df2017, df2018], axis = 1)"
   ]
  },
  {
   "cell_type": "code",
   "execution_count": 15,
   "metadata": {},
   "outputs": [],
   "source": [
    "dftudo.columns = ['NU_INSCRICAO_2009','TP_PRESENCA_CN_2009','TP_PRESENCA_CH_2009','TP_PRESENCA_LC_2009','TP_PRESENCA_MT_2009','NU_INSCRICAO_2010','TP_PRESENCA_CN_2010','TP_PRESENCA_CH_2010','TP_PRESENCA_LC_2010','TP_PRESENCA_MT_2010','NU_INSCRICAO_2011','TP_PRESENCA_CN_2011','TP_PRESENCA_CH_2011','TP_PRESENCA_LC_2011','TP_PRESENCA_MT_2011','NU_INSCRICAO_2012','TP_PRESENCA_CN_2012','TP_PRESENCA_CH_2012','TP_PRESENCA_LC_2012','TP_PRESENCA_MT_2012','NU_INSCRICAO_2013','TP_PRESENCA_CN_2013','TP_PRESENCA_CH_2013','TP_PRESENCA_LC_2013','TP_PRESENCA_MT_2013','NU_INSCRICAO_2016','TP_PRESENCA_CN_2016','TP_PRESENCA_CH_2016','TP_PRESENCA_LC_2016','TP_PRESENCA_MT_2016','NU_INSCRICAO_2017','TP_PRESENCA_CN_2017','TP_PRESENCA_CH_2017','TP_PRESENCA_LC_2017','TP_PRESENCA_MT_2017','NU_INSCRICAO_2018','TP_PRESENCA_CN_2018','TP_PRESENCA_CH_2018','TP_PRESENCA_LC_2018','TP_PRESENCA_MT_2018']"
   ]
  },
  {
   "cell_type": "code",
   "execution_count": 16,
   "metadata": {},
   "outputs": [
    {
     "name": "stdout",
     "output_type": "stream",
     "text": [
      "<class 'pandas.core.frame.DataFrame'>\n",
      "RangeIndex: 8627367 entries, 0 to 8627366\n",
      "Data columns (total 40 columns):\n",
      "NU_INSCRICAO_2009      float64\n",
      "TP_PRESENCA_CN_2009    float64\n",
      "TP_PRESENCA_CH_2009    float64\n",
      "TP_PRESENCA_LC_2009    float64\n",
      "TP_PRESENCA_MT_2009    float64\n",
      "NU_INSCRICAO_2010      float64\n",
      "TP_PRESENCA_CN_2010    float64\n",
      "TP_PRESENCA_CH_2010    float64\n",
      "TP_PRESENCA_LC_2010    float64\n",
      "TP_PRESENCA_MT_2010    float64\n",
      "NU_INSCRICAO_2011      object\n",
      "TP_PRESENCA_CN_2011    float64\n",
      "TP_PRESENCA_CH_2011    float64\n",
      "TP_PRESENCA_LC_2011    float64\n",
      "TP_PRESENCA_MT_2011    float64\n",
      "NU_INSCRICAO_2012      object\n",
      "TP_PRESENCA_CN_2012    float64\n",
      "TP_PRESENCA_CH_2012    float64\n",
      "TP_PRESENCA_LC_2012    float64\n",
      "TP_PRESENCA_MT_2012    float64\n",
      "NU_INSCRICAO_2013      float64\n",
      "TP_PRESENCA_CN_2013    float64\n",
      "TP_PRESENCA_CH_2013    float64\n",
      "TP_PRESENCA_LC_2013    float64\n",
      "TP_PRESENCA_MT_2013    float64\n",
      "NU_INSCRICAO_2016      int64\n",
      "TP_PRESENCA_CN_2016    float64\n",
      "TP_PRESENCA_CH_2016    float64\n",
      "TP_PRESENCA_LC_2016    float64\n",
      "TP_PRESENCA_MT_2016    float64\n",
      "NU_INSCRICAO_2017      float64\n",
      "TP_PRESENCA_CN_2017    float64\n",
      "TP_PRESENCA_CH_2017    float64\n",
      "TP_PRESENCA_LC_2017    float64\n",
      "TP_PRESENCA_MT_2017    float64\n",
      "NU_INSCRICAO_2018      object\n",
      "TP_PRESENCA_CN_2018    float64\n",
      "TP_PRESENCA_CH_2018    float64\n",
      "TP_PRESENCA_LC_2018    float64\n",
      "TP_PRESENCA_MT_2018    float64\n",
      "dtypes: float64(36), int64(1), object(3)\n",
      "memory usage: 2.6+ GB\n"
     ]
    }
   ],
   "source": [
    "dftudo.info()"
   ]
  },
  {
   "cell_type": "markdown",
   "metadata": {},
   "source": [
    "## Salvando os dados em um arquivo novo"
   ]
  },
  {
   "cell_type": "code",
   "execution_count": 18,
   "metadata": {},
   "outputs": [],
   "source": [
    "dftudo.to_csv('DADOS_ENEM_2009_2017.csv',sep = ';')"
   ]
  }
 ],
 "metadata": {
  "kernelspec": {
   "display_name": "Python 3",
   "language": "python",
   "name": "python3"
  },
  "language_info": {
   "codemirror_mode": {
    "name": "ipython",
    "version": 3
   },
   "file_extension": ".py",
   "mimetype": "text/x-python",
   "name": "python",
   "nbconvert_exporter": "python",
   "pygments_lexer": "ipython3",
   "version": "3.7.4"
  }
 },
 "nbformat": 4,
 "nbformat_minor": 2
}
